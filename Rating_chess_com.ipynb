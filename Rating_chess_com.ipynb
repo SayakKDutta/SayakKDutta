{
  "nbformat": 4,
  "nbformat_minor": 0,
  "metadata": {
    "colab": {
      "provenance": [],
      "authorship_tag": "ABX9TyOnKS3WPKRWvkX+CYrrae8j",
      "include_colab_link": true
    },
    "kernelspec": {
      "name": "python3",
      "display_name": "Python 3"
    },
    "language_info": {
      "name": "python"
    }
  },
  "cells": [
    {
      "cell_type": "markdown",
      "metadata": {
        "id": "view-in-github",
        "colab_type": "text"
      },
      "source": [
        "<a href=\"https://colab.research.google.com/github/SayakKDutta/SayakKDutta/blob/main/Rating_chess_com.ipynb\" target=\"_parent\"><img src=\"https://colab.research.google.com/assets/colab-badge.svg\" alt=\"Open In Colab\"/></a>"
      ]
    },
    {
      "cell_type": "code",
      "execution_count": 9,
      "metadata": {
        "colab": {
          "base_uri": "https://localhost:8080/"
        },
        "id": "bpB2NyBTdNqd",
        "outputId": "ba4b92cb-499a-488f-ffb2-0c0a30b36302"
      },
      "outputs": [
        {
          "output_type": "stream",
          "name": "stdout",
          "text": [
            "{\n",
            "    \"avatarUrl\": \"https://images.chesscomfiles.com/uploads/v1/user/12559718.c05c16e6.50x50o.435ae58c0b32.jpeg\",\n",
            "    \"bestRating\": 1849,\n",
            "    \"bestRatingType\": \"rapid\",\n",
            "    \"chessTitle\": null,\n",
            "    \"isEnabled\": true,\n",
            "    \"isStaff\": false,\n",
            "    \"isGuest\": false,\n",
            "    \"countryId\": 69,\n",
            "    \"membership\": {\n",
            "        \"level\": 10,\n",
            "        \"name\": \"Basic Membership\",\n",
            "        \"code\": \"basic\",\n",
            "        \"vacation_add_days\": 7,\n",
            "        \"vacation_cap_days\": 30,\n",
            "        \"vacation_accrue_days\": 1\n",
            "    },\n",
            "    \"joinDate\": \"Jul 2, 2013\",\n",
            "    \"lastLoginDate\": \"45 min ago\",\n",
            "    \"firstName\": \"Sayak\",\n",
            "    \"lastName\": \"Kumar Dutta\",\n",
            "    \"userId\": 12559718,\n",
            "    \"isFideVerified\": false,\n",
            "    \"isCoach\": false,\n",
            "    \"isModerator\": false,\n",
            "    \"countryName\": \"India\",\n",
            "    \"isMessageable\": false,\n",
            "    \"isFriendRequestFromUserExists\": false,\n",
            "    \"canReceiveGiftMembership\": true,\n",
            "    \"uuid\": \"c9efc5a2-e316-11e2-8012-000000000000\",\n",
            "    \"notMessageableReasonCode\": \"\",\n",
            "    \"areFriends\": false,\n",
            "    \"isTracked\": false,\n",
            "    \"isBlocked\": false,\n",
            "    \"isFriendRequestExists\": false,\n",
            "    \"blocksCurrentUser\": false,\n",
            "    \"onlineStatus\": \"onlive\",\n",
            "    \"flair\": {\n",
            "        \"id\": null,\n",
            "        \"code\": \"nothing\",\n",
            "        \"name\": \"Nothing\",\n",
            "        \"description\": \"Nothing\",\n",
            "        \"status\": \"\"\n",
            "    },\n",
            "    \"topPuzzleRushScore\": 18,\n",
            "    \"topPuzzleRushScoreType\": \"five_minutes\",\n",
            "    \"isStreamer\": false,\n",
            "    \"isTopBlogger\": false,\n",
            "    \"allowFriendRequests\": true\n",
            "}\n"
          ]
        }
      ],
      "source": [
        "import json\n",
        "import requests\n",
        "\n",
        "# Make a request to the API\n",
        "username = \"Sayak_K\"\n",
        "response = requests.get(f\"https://www.chess.com/callback/user/popup/{username}\")\n",
        "data = response.json()\n",
        "\n",
        "# Pretty print the JSON data\n",
        "print(json.dumps(data, indent=4))\n"
      ]
    },
    {
      "cell_type": "code",
      "source": [
        "import json\n",
        "import requests\n",
        "\n",
        "# Make a request to the API\n",
        "username = \"Sayak_K\"\n",
        "response = requests.get(f\"https://www.chess.com/callback/user/popup/{username}\")\n",
        "data = response.json()\n",
        "\n",
        "# Extract the required values\n",
        "rating_1 = int(data[\"bestRating\"])\n",
        "rating_type_1 = data[\"bestRatingType\"].upper()\n",
        "puzzle_score_1 = int(data[\"topPuzzleRushScore\"])\n",
        "puzzle_type_1 = data[\"topPuzzleRushScoreType\"].upper()\n",
        "\n",
        "# Store the extracted values in capital letters and big size format\n",
        "rating = rating_1\n",
        "rating_type = rating_type_1\n",
        "puzzle_score = puzzle_score_1\n",
        "puzzle_type = puzzle_type_1\n",
        "\n",
        "# Print the extracted values (optional)\n",
        "print(\"Best Rating:\", rating)\n",
        "print(\"Best Rating Type:\", rating_type)\n",
        "print(\"Top Puzzle Rush Score:\", puzzle_score)\n",
        "print(\"Top Puzzle Rush Score Type:\", puzzle_type)"
      ],
      "metadata": {
        "colab": {
          "base_uri": "https://localhost:8080/"
        },
        "id": "8RgMlKU7dniv",
        "outputId": "77f0dc91-5ac6-4d0c-8326-0d1a3822572c"
      },
      "execution_count": 12,
      "outputs": [
        {
          "output_type": "stream",
          "name": "stdout",
          "text": [
            "Best Rating: 1849\n",
            "Best Rating Type: RAPID\n",
            "Top Puzzle Rush Score: 18\n",
            "Top Puzzle Rush Score Type: FIVE_MINUTES\n"
          ]
        }
      ]
    }
  ]
}